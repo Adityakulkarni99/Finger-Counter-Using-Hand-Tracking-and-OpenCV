{
 "cells": [
  {
   "cell_type": "code",
   "execution_count": 1,
   "metadata": {},
   "outputs": [],
   "source": [
    "import cv2\n",
    "import os\n",
    "import time\n",
    "import handTrackingModule as htm"
   ]
  },
  {
   "cell_type": "code",
   "execution_count": 2,
   "metadata": {},
   "outputs": [
    {
     "ename": "KeyboardInterrupt",
     "evalue": "",
     "output_type": "error",
     "traceback": [
      "\u001b[1;31m---------------------------------------------------------------------------\u001b[0m",
      "\u001b[1;31mKeyboardInterrupt\u001b[0m                         Traceback (most recent call last)",
      "\u001b[1;32m<ipython-input-2-0bd73c1c657b>\u001b[0m in \u001b[0;36m<module>\u001b[1;34m\u001b[0m\n\u001b[0;32m     28\u001b[0m \u001b[0mdetector\u001b[0m \u001b[1;33m=\u001b[0m \u001b[0mhtm\u001b[0m\u001b[1;33m.\u001b[0m\u001b[0mhandDetector\u001b[0m\u001b[1;33m(\u001b[0m\u001b[0mdetectionCon\u001b[0m\u001b[1;33m=\u001b[0m\u001b[1;36m0.75\u001b[0m\u001b[1;33m)\u001b[0m\u001b[1;33m\u001b[0m\u001b[1;33m\u001b[0m\u001b[0m\n\u001b[0;32m     29\u001b[0m \u001b[1;32mwhile\u001b[0m \u001b[1;32mTrue\u001b[0m\u001b[1;33m:\u001b[0m\u001b[1;33m\u001b[0m\u001b[1;33m\u001b[0m\u001b[0m\n\u001b[1;32m---> 30\u001b[1;33m     \u001b[0msuccess\u001b[0m\u001b[1;33m,\u001b[0m\u001b[0mimg\u001b[0m\u001b[1;33m=\u001b[0m\u001b[0mcap\u001b[0m\u001b[1;33m.\u001b[0m\u001b[0mread\u001b[0m\u001b[1;33m(\u001b[0m\u001b[1;33m)\u001b[0m\u001b[1;33m\u001b[0m\u001b[1;33m\u001b[0m\u001b[0m\n\u001b[0m\u001b[0;32m     31\u001b[0m     \u001b[0mimg\u001b[0m \u001b[1;33m=\u001b[0m \u001b[0mdetector\u001b[0m\u001b[1;33m.\u001b[0m\u001b[0mfindHands\u001b[0m\u001b[1;33m(\u001b[0m\u001b[0mimg\u001b[0m\u001b[1;33m,\u001b[0m \u001b[0mdraw\u001b[0m\u001b[1;33m=\u001b[0m\u001b[1;32mTrue\u001b[0m \u001b[1;33m)\u001b[0m\u001b[1;33m\u001b[0m\u001b[1;33m\u001b[0m\u001b[0m\n\u001b[0;32m     32\u001b[0m     \u001b[0mlmList\u001b[0m\u001b[1;33m=\u001b[0m\u001b[0mdetector\u001b[0m\u001b[1;33m.\u001b[0m\u001b[0mfindPosition\u001b[0m\u001b[1;33m(\u001b[0m\u001b[0mimg\u001b[0m\u001b[1;33m,\u001b[0m\u001b[0mdraw\u001b[0m\u001b[1;33m=\u001b[0m\u001b[1;32mFalse\u001b[0m\u001b[1;33m)\u001b[0m\u001b[1;33m\u001b[0m\u001b[1;33m\u001b[0m\u001b[0m\n",
      "\u001b[1;31mKeyboardInterrupt\u001b[0m: "
     ]
    }
   ],
   "source": [
    "def getNumber(ar):\n",
    "    s=\"\"\n",
    "    for i in ar:\n",
    "       s+=str(ar[i]);\n",
    "       \n",
    "    if(s==\"00000\"):\n",
    "        return (0)\n",
    "    elif(s==\"01000\"):\n",
    "        return(1)\n",
    "    elif(s==\"01100\"):\n",
    "        return(2) \n",
    "    elif(s==\"01110\"):\n",
    "        return(3)\n",
    "    elif(s==\"01111\"):\n",
    "        return(4)\n",
    "    elif(s==\"11111\"):\n",
    "        return(5) \n",
    "    elif(s==\"01001\"):\n",
    "        return(6)\n",
    "    elif(s==\"01011\"):\n",
    "        return(7)      \n",
    " \n",
    "wcam,hcam=640,480\n",
    "cap=cv2.VideoCapture(0)\n",
    "cap.set(3,wcam)\n",
    "cap.set(4,hcam)\n",
    "pTime=0\n",
    "detector = htm.handDetector(detectionCon=0.75)\n",
    "while True:\n",
    "    success,img=cap.read()\n",
    "    img = detector.findHands(img, draw=True )\n",
    "    lmList=detector.findPosition(img,draw=False)\n",
    "    #print(lmList)\n",
    "    tipId=[4,8,12,16,20]\n",
    "    if(len(lmList)!=0):\n",
    "        fingers=[]\n",
    "        #thumb\n",
    "        if(lmList[tipId[0]][1]>lmList[tipId[0]-1][1]):\n",
    "                fingers.append(1)\n",
    "        else :\n",
    "                fingers.append(0)\n",
    "        #4 fingers\n",
    "        for id in range(1,len(tipId)):\n",
    "            \n",
    "            if(lmList[tipId[id]][2]<lmList[tipId[id]-2][2]):\n",
    "                fingers.append(1)\n",
    "            \n",
    "            else :\n",
    "                fingers.append(0)\n",
    "        \n",
    "           \n",
    "        cv2.rectangle(img,(20,255),(170,425),(0,255,0),cv2.FILLED)   \n",
    "        cv2.putText(img,str(getNumber(fingers)),(45,375),cv2.FONT_HERSHEY_PLAIN,\n",
    "                                     10,(255,0,0),20)  \n",
    "        \n",
    "     \n",
    "    \n",
    "    cTime=time.time()\n",
    "    fps=1/(cTime-pTime)\n",
    "    pTime=cTime\n",
    "    cv2.putText(img, f'FPS: {int(fps)}',(400,70),cv2.FONT_HERSHEY_COMPLEX,1,(255,255,0),3)\n",
    "    cv2.imshow(\"image\",img)\n",
    "    if(cv2.waitKey(1) & 0xFF== ord('q')):\n",
    "        break"
   ]
  },
  {
   "cell_type": "code",
   "execution_count": null,
   "metadata": {},
   "outputs": [],
   "source": []
  }
 ],
 "metadata": {
  "kernelspec": {
   "display_name": "Python 3",
   "language": "python",
   "name": "python3"
  },
  "language_info": {
   "codemirror_mode": {
    "name": "ipython",
    "version": 3
   },
   "file_extension": ".py",
   "mimetype": "text/x-python",
   "name": "python",
   "nbconvert_exporter": "python",
   "pygments_lexer": "ipython3",
   "version": "3.8.5"
  }
 },
 "nbformat": 4,
 "nbformat_minor": 4
}
